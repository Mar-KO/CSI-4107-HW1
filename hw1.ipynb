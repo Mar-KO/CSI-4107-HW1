{
 "cells": [
  {
   "source": [
    "# Assignment 1"
   ],
   "cell_type": "markdown",
   "metadata": {}
  },
  {
   "cell_type": "code",
   "execution_count": 1,
   "id": "egyptian-coordination",
   "metadata": {},
   "outputs": [],
   "source": [
    "import spacy\n",
    "import pandas as pd \n",
    "from sklearn.model_selection import train_test_split\n",
    "from sklearn.ensemble import RandomForestRegressor\n",
    "import matplotlib.pyplot as plt\n",
    "import seaborn as sns\n",
    "import numpy as np"
   ]
  },
  {
   "cell_type": "code",
   "execution_count": 2,
   "id": "polyphonic-tourism",
   "metadata": {},
   "outputs": [
    {
     "output_type": "stream",
     "name": "stdout",
     "text": [
      "querytweettime     int64\ntitle             object\ndtype: object\n"
     ]
    }
   ],
   "source": [
    "sp = spacy.load(\"en_core_web_sm\")\n",
    "\n",
    "#read the tweets\n",
    "df = pd.read_csv(\"Twitter.txt\", '\\t', names=['querytweettime', 'title'])\n",
    "docs = df[\"title\"]\n",
    "print(df.dtypes)"
   ]
  },
  {
   "cell_type": "code",
   "execution_count": 3,
   "id": "impressive-hawaii",
   "metadata": {
    "tags": []
   },
   "outputs": [
    {
     "output_type": "stream",
     "name": "stdout",
     "text": [
      "       querytweettime                                                doc\n0   34952194402811904  (Save, BBC, World, Service, Savage, Cuts, http...\n1   34952186328784896  (lot, people, fun, world, question, isARE, U, ...\n2   34952041415581696  (ReThink, Group, positive, outlook, Technology...\n3   34952018120409088  (Zombie, fund, manager, Phoenix, appoints, CEO...\n4   34952008683229185  (Latest, Top, World, Releases, httpglobalclass...\n5   34951899295920129  (CDT, presents, ALICE, IN, WONDERLAND,  , Cato...\n6   34951860221648896  (Territory, Manager, Location, Calgary, Albert...\n7   34951846736953344  (BBC, News,  , Today,  , Free, school, funding...\n8   34951766319706112  (Manchester, City, Council, details, saving, c...\n9   34951749731090432  (httpbitlye0ujdP, interested, professional, gl...\n10  34951546160553984  (Fitness, First, float, nt, full, service, mod...\n11  34951513591783424  (David, Cook,  , httpbitlyfkj2gk, mostest, bea...\n12  34951452208136192                    (Piss, Cnt, stand, lick, asses)\n13  34951399884197888  (BEWARE, THE, BLUE, MEANIES, httpbitlyhu8iJz, ...\n14  34951141590568960  (Como, perde, os, dentes, World, Of, Warcraft,...\n15  34951099060461568  (How, exciting, RT, BunchesUK, Hello, What, ha...\n16  34951007502995456  (I, appreciate, people, broadcasting, asking, ...\n17  34950989601574912  (samanthaprabu, sam, knw, cricket, fan, watchi...\n18  34950800157450240  (John, Baer, Who, nt, coming, TO, THOSE, know,...\n19  34950788132380672                             (Good, morning, world)\n"
     ]
    }
   ],
   "source": [
    "import tokenizer\n",
    "    \n",
    "docs_mini = df.head(20)\n",
    "\n",
    "docs_tokenized = docs_mini.apply(tokenizer.tokenize, 1, spacy=sp)\n",
    "print(docs_tokenized)\n"
   ]
  },
  {
   "cell_type": "code",
   "execution_count": 4,
   "id": "instant-spank",
   "metadata": {},
   "outputs": [
    {
     "output_type": "stream",
     "name": "stdout",
     "text": [
      "Save, 1: {'34952194402811904': 1} \nBBC, 2: {'34952194402811904': 1, 34951846736953344: 1} \nWorld, 3: {'34952194402811904': 1, 34952008683229185: 1, 34951141590568960: 1} \nService, 1: {'34952194402811904': 1} \nSavage, 1: {'34952194402811904': 1} \nCuts, 1: {'34952194402811904': 1} \nhttpwwwpetitionbuzzcompetitionssavews, 1: {'34952194402811904': 1} \nlot, 1: {'34952186328784896': 1} \npeople, 2: {'34952186328784896': 1, 34951007502995456: 1} \nfun, 1: {'34952186328784896': 1} \nworld, 6: {'34952186328784896': 1, 34951513591783424: 1, 34951099060461568: 1, 34950989601574912: 1, 34950800157450240: 1, 34950788132380672: 1} \nquestion, 1: {'34952186328784896': 1} \nisARE, 1: {'34952186328784896': 1} \nU, 1: {'34952186328784896': 1} \nREADY, 1: {'34952186328784896': 1} \nFOR, 1: {'34952186328784896': 1} \nIT, 1: {'34952186328784896': 1} \nReThink, 1: {'34952041415581696': 2} \nGroup, 1: {'34952041415581696': 2} \npositive, 1: {'34952041415581696': 1} \noutlook, 1: {'34952041415581696': 1} \nTechnology, 1: {'34952041415581696': 1} \nstaffing, 1: {'34952041415581696': 1} \nspecialist, 1: {'34952041415581696': 1} \nexpects, 1: {'34952041415581696': 1} \nrevenues, 1: {'34952041415581696': 1} \nmarg, 1: {'34952041415581696': 1} \nhttpbitlyhFjtmY, 1: {'34952041415581696': 1} \nZombie, 1: {'34952018120409088': 1} \nfund, 1: {'34952018120409088': 1} \nmanager, 1: {'34952018120409088': 1} \nPhoenix, 1: {'34952018120409088': 2} \nappoints, 1: {'34952018120409088': 1} \nCEO, 1: {'34952018120409088': 1} \nbuys, 1: {'34952018120409088': 1} \nfunds, 1: {'34952018120409088': 1} \nclosed, 1: {'34952018120409088': 1} \nbusiness, 1: {'34952018120409088': 1} \n , 8: {'34952018120409088': 1, 34951899295920129: 1, 34951846736953344: 1, 34951766319706112: 1, 34951546160553984: 1, 34951513591783424: 1, 34951141590568960: 1, 34950800157450240: 1} \nhttpbitlydXrlH5, 1: {'34952018120409088': 1} \nLatest, 1: {'34952008683229185': 1} \nTop, 1: {'34952008683229185': 1} \nReleases, 1: {'34952008683229185': 1} \nhttpglobalclassifiednet201102topworldreleases2, 1: {'34952008683229185': 1} \nCDT, 1: {'34951899295920129': 2} \npresents, 1: {'34951899295920129': 2} \nALICE, 1: {'34951899295920129': 2} \nIN, 1: {'34951899295920129': 2} \nWONDERLAND, 1: {'34951899295920129': 2} \nCatonsville, 1: {'34951899295920129': 1} \nDinner, 1: {'34951899295920129': 1} \nposted, 1: {'34951899295920129': 1} \nhttpfbmeGMicayT3, 1: {'34951899295920129': 1} \nTerritory, 1: {'34951860221648896': 1} \nManager, 1: {'34951860221648896': 1} \nLocation, 1: {'34951860221648896': 1} \nCalgary, 1: {'34951860221648896': 1} \nAlberta, 1: {'34951860221648896': 1} \nCANADA, 1: {'34951860221648896': 1} \nJob, 1: {'34951860221648896': 1} \nCategory, 1: {'34951860221648896': 1} \nbu, 1: {'34951860221648896': 1} \nhttpbitlye3o7mt, 1: {'34951860221648896': 1} \njobs, 1: {'34951860221648896': 1} \nNews, 1: {'34951846736953344': 1} \nToday, 1: {'34951846736953344': 1} \nFree, 1: {'34951846736953344': 1} \nschool, 1: {'34951846736953344': 1} \nfunding, 1: {'34951846736953344': 1} \nplans, 1: {'34951846736953344': 1} \nlack, 1: {'34951846736953344': 1} \ntransparency, 1: {'34951846736953344': 1} \nhttpnewsbbccouktodayhitodaynewsid_93890009389467stm, 1: {'34951846736953344': 1} \nManchester, 1: {'34951766319706112': 1} \nCity, 1: {'34951766319706112': 1} \nCouncil, 1: {'34951766319706112': 1} \ndetails, 1: {'34951766319706112': 1} \nsaving, 1: {'34951766319706112': 1} \ncuts, 2: {'34951766319706112': 1, 34951399884197888: 1} \nplan, 1: {'34951766319706112': 1} \nhttpbbcinfYPYPC, 1: {'34951766319706112': 1} \nDepressing, 1: {'34951766319706112': 1} \nApparently, 1: {'34951766319706112': 1} \n4th, 1: {'34951766319706112': 1} \ndeprived, 1: {'34951766319706112': 1} \ntop, 1: {'34951766319706112': 1} \nhardest, 1: {'34951766319706112': 1} \nhit, 1: {'34951766319706112': 1} \nhttpbitlye0ujdP, 1: {'34951749731090432': 1} \ninterested, 1: {'34951749731090432': 1} \nprofessional, 1: {'34951749731090432': 1} \nglobal, 1: {'34951749731090432': 1} \ntranslation, 1: {'34951749731090432': 1} \nservices, 1: {'34951749731090432': 1} \nFitness, 1: {'34951546160553984': 1} \nFirst, 1: {'34951546160553984': 1} \nfloat, 1: {'34951546160553984': 1} \nnt, 2: {'34951546160553984': 1, 34950800157450240: 1} \nfull, 1: {'34951546160553984': 1} \nservice, 1: {'34951546160553984': 1} \nmodel, 1: {'34951546160553984': 1} \ndead, 1: {'34951546160553984': 1} \nhttpbitlyevflEb, 1: {'34951546160553984': 1} \nDavid, 1: {'34951513591783424': 1} \nCook, 1: {'34951513591783424': 1} \nhttpbitlyfkj2gk, 1: {'34951513591783424': 1} \nmostest, 1: {'34951513591783424': 1} \nbeautiful, 1: {'34951513591783424': 1} \nsmile, 1: {'34951513591783424': 1} \nPiss, 1: {'34951452208136192': 1} \nCnt, 1: {'34951452208136192': 1} \nstand, 1: {'34951452208136192': 1} \nlick, 1: {'34951452208136192': 1} \nasses, 1: {'34951452208136192': 1} \nBEWARE, 1: {'34951399884197888': 1} \nTHE, 1: {'34951399884197888': 1} \nBLUE, 1: {'34951399884197888': 1} \nMEANIES, 1: {'34951399884197888': 1} \nhttpbitlyhu8iJz, 1: {'34951399884197888': 1} \nthebluemeanies, 1: {'34951399884197888': 1} \nComo, 1: {'34951141590568960': 1} \nperde, 1: {'34951141590568960': 1} \nos, 1: {'34951141590568960': 1} \ndentes, 1: {'34951141590568960': 1} \nOf, 1: {'34951141590568960': 1} \nWarcraft, 1: {'34951141590568960': 1} \nVia, 1: {'34951141590568960': 1} \nAlisson, 1: {'34951141590568960': 1} \nhttpowly1beBPo, 1: {'34951141590568960': 1} \nHow, 1: {'34951099060461568': 1} \nexciting, 1: {'34951099060461568': 1} \nRT, 1: {'34951099060461568': 1} \nBunchesUK, 1: {'34951099060461568': 1} \nHello, 1: {'34951099060461568': 1} \nWhat, 1: {'34951099060461568': 1} \nhappening, 1: {'34951099060461568': 1} \nWere, 1: {'34951099060461568': 1} \ngearing, 1: {'34951099060461568': 1} \nValentines, 1: {'34951099060461568': 1} \nbouquets, 1: {'34951099060461568': 1} \nflying, 1: {'34951099060461568': 1} \ndoor, 1: {'34951099060461568': 1} \nI, 1: {'34951007502995456': 1} \nappreciate, 1: {'34951007502995456': 1} \nbroadcasting, 1: {'34951007502995456': 1} \nasking, 1: {'34951007502995456': 1} \nadd, 1: {'34951007502995456': 1} \nBBM, 1: {'34951007502995456': 1} \nsamanthaprabu, 1: {'34950989601574912': 1} \nsam, 1: {'34950989601574912': 1} \nknw, 1: {'34950989601574912': 1} \ncricket, 1: {'34950989601574912': 1} \nfan, 1: {'34950989601574912': 1} \nwatching, 1: {'34950989601574912': 1} \ncup, 1: {'34950989601574912': 1} \nmatches, 1: {'34950989601574912': 1} \nJohn, 1: {'34950800157450240': 1} \nBaer, 1: {'34950800157450240': 1} \nWho, 1: {'34950800157450240': 1} \ncoming, 1: {'34950800157450240': 1} \nTO, 1: {'34950800157450240': 1} \nTHOSE, 1: {'34950800157450240': 1} \nknow, 1: {'34950800157450240': 1} \nEd, 1: {'34950800157450240': 1} \nMidge, 1: {'34950800157450240': 1} \nRendell, 1: {'34950800157450240': 1} \nheck, 1: {'34950800157450240': 1} \nPhilly, 1: {'34950800157450240': 1} \nhttpbitlyii6WEO, 1: {'34950800157450240': 1} \nGood, 1: {'34950788132380672': 1} \nmorning, 1: {'34950788132380672': 1} \n\n"
     ]
    }
   ],
   "source": [
    "from index import InvertedIndex\n",
    "from index import indexDocs\n",
    "\n",
    "invIndex = InvertedIndex()\n",
    "\n",
    "\n",
    "for label, data in docs_tokenized.iterrows():\n",
    "    indexDocs(data, invIndex)\n",
    "\n",
    "print(invIndex)"
   ]
  },
  {
   "cell_type": "code",
   "execution_count": null,
   "metadata": {},
   "outputs": [],
   "source": []
  }
 ],
 "metadata": {
  "kernelspec": {
   "name": "python3",
   "display_name": "Python 3.9.1 64-bit",
   "metadata": {
    "interpreter": {
     "hash": "ac59ebe37160ed0dfa835113d9b8498d9f09ceb179beaac4002f036b9467c963"
    }
   }
  },
  "language_info": {
   "codemirror_mode": {
    "name": "ipython",
    "version": 3
   },
   "file_extension": ".py",
   "mimetype": "text/x-python",
   "name": "python",
   "nbconvert_exporter": "python",
   "pygments_lexer": "ipython3",
   "version": "3.9.1-final"
  },
  "toc-showcode": true,
  "toc-showmarkdowntxt": true,
  "toc-showtags": false
 },
 "nbformat": 4,
 "nbformat_minor": 5
}